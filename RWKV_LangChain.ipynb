{
  "nbformat": 4,
  "nbformat_minor": 0,
  "metadata": {
    "colab": {
      "provenance": [],
      "machine_shape": "hm",
      "gpuType": "T4",
      "authorship_tag": "ABX9TyP0ro6240IXC2zwlrl8nf+8",
      "include_colab_link": true
    },
    "kernelspec": {
      "name": "python3",
      "display_name": "Python 3"
    },
    "language_info": {
      "name": "python"
    },
    "accelerator": "GPU",
    "gpuClass": "standard"
  },
  "cells": [
    {
      "cell_type": "markdown",
      "metadata": {
        "id": "view-in-github",
        "colab_type": "text"
      },
      "source": [
        "<a href=\"https://colab.research.google.com/github/resloved/RWKV-notebooks/blob/master/RWKV_LangChain.ipynb\" target=\"_parent\"><img src=\"https://colab.research.google.com/assets/colab-badge.svg\" alt=\"Open In Colab\"/></a>"
      ]
    },
    {
      "cell_type": "markdown",
      "source": [
        "# RWKV LangChain\n",
        "\n",
        "[RWKV](https://github.com/BlinkDL/RWKV-LM) is an RNN with transformer-level performance\n",
        "\n",
        "\n",
        "This notebook aims to demo the use of RWKV in conjunction with [LangChain](https://github.com/hwchase17/langchain)\n",
        "\n",
        "Extending the work by [jiamingkong](https://github.com/jiamingkong) on [github](https://gist.github.com/jiamingkong/3c2b4529e602c0178a7c6fcd10b7c639)"
      ],
      "metadata": {
        "id": "E8bZFEPLrlWr"
      }
    },
    {
      "cell_type": "code",
      "source": [
        "#@title Google Drive Options { display-mode: \"form\" }\n",
        "save_models_to_drive = True #@param {type:\"boolean\"}\n",
        "drive_mount = '/content/drive' #@param {type:\"string\"}\n",
        "model_dir = 'rwkv-models' #@param {type:\"string\"}\n",
        "\n",
        "import os\n",
        "if save_models_to_drive:\n",
        "    from google.colab import drive\n",
        "    drive.mount(drive_mount)\n",
        "    model_dir_path = f\"{drive_mount}/MyDrive/{model_dir}\" if save_models_to_drive else f\"/content/{model_dir}\"\n",
        "else:\n",
        "    model_dir_path = \"/content\"\n",
        "\n",
        "os.makedirs(f\"{model_dir_path}\", exist_ok=True)\n",
        "\n",
        "print(f\"Saving models to {model_dir_path}\")"
      ],
      "metadata": {
        "id": "4HUIQ3-rcw2O"
      },
      "execution_count": null,
      "outputs": []
    },
    {
      "cell_type": "code",
      "source": [
        "!pip install langchain rwkv ninja"
      ],
      "metadata": {
        "id": "sTutsmsycvyK"
      },
      "execution_count": null,
      "outputs": []
    },
    {
      "cell_type": "code",
      "source": [
        "!git clone https://github.com/BlinkDL/RWKV-LM"
      ],
      "metadata": {
        "id": "dYp1o4DOiq9p"
      },
      "execution_count": null,
      "outputs": []
    },
    {
      "cell_type": "code",
      "source": [
        "#@title Select/Download Model { display-mode: \"form\" }\n",
        "import urllib\n",
        "\n",
        "#@markdown Select the model you'd like to use:\n",
        "model_file = \"RWKV-4-Raven-3B-v11-Eng99%-Other1%-20230425-ctx4096.pth\" #@param {type:\"string\"}\n",
        "#@markdown It will first search `model_dir` for `model_file`.\n",
        "#@markdown If it isn't valid path, it will attempt to download a `RWKV-v4-Raven` model from huggingface.\n",
        "#@markdown To see which options you have, take a look at the [repo](https://huggingface.co/BlinkDL/rwkv-4-raven/).\n",
        "\n",
        "#@markdown ---\n",
        "\n",
        "#@markdown For example:\n",
        "#@markdown - RWKV-v4-Raven-14B-v11x: `RWKV-4-Raven-14B-v11x-Eng99%-Other1%-20230501-ctx8192.pth`\n",
        "#@markdown - RWKV-v4-Raven-7B-v11x: `RWKV-4-Raven-7B-v11x-Eng99%-Other1%-20230429-ctx8192.pth`\n",
        "#@markdown - RWKV-v4-Raven-3B-v11: `RWKV-4-Raven-3B-v11-Eng99%-Other1%-20230425-ctx4096.pth`\n",
        "#@markdown - RWKV-v4-Raven-1B5-v11: `RWKV-4-Raven-1B5-v11-Eng99%-Other1%-20230425-ctx4096.pth`\n",
        "#@markdown - Custom Model: `/rwkv-subdirectory/custom-rwkv.pth`\n",
        "\n",
        "model_path = f\"{model_dir_path}/{model_file}\"\n",
        "if not os.path.exists(model_path):\n",
        "    model_repo = f\"https://huggingface.co/BlinkDL/rwkv-4-raven/resolve/main\"\n",
        "    model_url = f\"{model_repo}/{urllib.parse.quote_plus(model_file)}\"\n",
        "    try:\n",
        "        print(f\"Downloading '{model_file}' from {model_url} this may take a while\")\n",
        "        urllib.request.urlretrieve(model_url, model_path)\n",
        "        print(f\"Using {model_path} as base\")\n",
        "    except Exception as e:\n",
        "        print(f\"Model '{model_file}' doesn't exist\")\n",
        "        raise Exception\n",
        "else:\n",
        "    print(f\"Using {model_path} as base\")"
      ],
      "metadata": {
        "id": "M-Mrn6tTeEub"
      },
      "execution_count": null,
      "outputs": []
    },
    {
      "cell_type": "code",
      "source": [
        "#@title Load Model\n",
        "import os\n",
        "os.environ[\"RWKV_CUDA_ON\"] = '1'\n",
        "os.environ[\"RWKV_JIT_ON\"] = '1'\n",
        "\n",
        "from langchain.llms import RWKV\n",
        "\n",
        "strategy = \"cuda fp16i8 *20 -> cuda fp16\" #@param {\"type\":\"string\"}\n",
        "model = RWKV(model=model_path, strategy=strategy, tokens_path=\"RWKV-LM/RWKV-v4/20B_tokenizer.json\")"
      ],
      "metadata": {
        "id": "wezOwVzeg-vN"
      },
      "execution_count": null,
      "outputs": []
    },
    {
      "cell_type": "code",
      "source": [
        "#@title Chain\n",
        "#@markdown A simple chain example. You first create the instruction template, and feed in your prompt as the instruction variable.\n",
        "\n",
        "from langchain.prompts import PromptTemplate\n",
        "task = \"\"\"Below is an instruction that describes a task. Write a response that appropriately completes the request.\n",
        "# Instruction:\n",
        "{instruction}\n",
        "\n",
        "# Response:\n",
        "\"\"\" \n",
        "instruction = \"What is a good company name for product of superglue?\" #@param {type:\"string\"}\n",
        "\n",
        "prompt = PromptTemplate(\n",
        "    input_variables=[\"instruction\"],\n",
        "    template=task,\n",
        ")\n",
        "\n",
        "from langchain.chains import LLMChain\n",
        "chain = LLMChain(llm=model, prompt=prompt)\n",
        "\n",
        "print(chain.run(instruction))\n",
        "\n",
        "#@markdown Documentation — \n",
        "#@markdown [PromptTemplate](https://python.langchain.com/en/latest/modules/prompts/prompt_templates/examples/prompt_serialization.html), \n",
        "#@markdown [LLMChain](https://python.langchain.com/en/latest/modules/chains/generic/llm_chain.html)"
      ],
      "metadata": {
        "id": "Kk7wO1vxqwDE"
      },
      "execution_count": null,
      "outputs": []
    },
    {
      "cell_type": "code",
      "source": [
        "#@title Conversation Chain\n",
        "#@markdown Using a ConversationChain you are able to continue the chain based on a simple conversation structure.\n",
        "\n",
        "reset_conversation = False #@param {type:\"boolean\"}\n",
        "prompt = \"Why not?\" #@param {type:\"string\"}\n",
        "from langchain import ConversationChain\n",
        "\n",
        "if not 'conversation' in locals() or reset_conversation:\n",
        "    conversation = ConversationChain(llm=model, verbose=True)\n",
        "\n",
        "print(conversation.predict(input=prompt, stop=\"\\n\").strip())\n",
        "\n",
        "#@markdown Documentation —\n",
        "#@markdown [ConversationChain](https://python.langchain.com/en/latest/modules/memory/getting_started.html#using-in-a-chain)"
      ],
      "metadata": {
        "id": "Sbi7hvipi-u7"
      },
      "execution_count": null,
      "outputs": []
    },
    {
      "cell_type": "code",
      "source": [
        "#@title Sequential Chain\n",
        "#@markdown In this example we use the SequentialChain object to first create a task to create a synopsis for a play,\n",
        "#@markdown then sequentially chain that result into another task to review the play.\n",
        "#@markdown \n",
        "from langchain.prompts import PromptTemplate\n",
        "task = \"\"\"Below is an instruction that describes a task. Write a response that appropriately completes the request.\n",
        "# Instruction:\n",
        "{instruction}\n",
        "\n",
        "# Response:\n",
        "\"\"\" \n",
        "\n",
        "model.max_tokens_per_generation = 1000\n",
        "template = \"\"\"\n",
        "You are a playwright. Given the title of play and the era it is set in, it is your job to write a synopsis for that title.\n",
        "Title: {title}\n",
        "Era: {era}\n",
        "\"\"\"\n",
        "\n",
        "response = \"Playwright: This is a synopsis for the above play:\"\n",
        "\n",
        "template = task.format(instruction=template, response=response)\n",
        "prompt_template = PromptTemplate(template=template, input_variables=[\"title\", 'era'])\n",
        "synopsis_chain = LLMChain(llm=model, prompt=prompt_template, output_key=\"synopsis\")\n",
        "\n",
        "template = \"\"\"You are a play critic from the New York Times. Given the synopsis of play, it is your job to write a review for that play.\n",
        "Play Synopsis:\n",
        "{synopsis}\n",
        "\"\"\"\n",
        "response = \"Review from a New York Times play critic of the above play:\"\n",
        "template = task.format(instruction = template, response=response)\n",
        "prompt_template = PromptTemplate(input_variables=[\"synopsis\"], template=template)\n",
        "review_chain = LLMChain(llm=model, prompt=prompt_template, output_key=\"review\")\n",
        "\n",
        "from langchain.chains import SequentialChain\n",
        "overall_chain = SequentialChain(\n",
        "    chains=[synopsis_chain, review_chain],\n",
        "    input_variables=[\"era\", \"title\"],\n",
        "    # Here we return multiple variables\n",
        "    output_variables=[\"synopsis\", \"review\"],\n",
        "    verbose=True)\n",
        "\n",
        "title = \"Tragedy at sunset on the beach\" #@param {type:\"string\"}\n",
        "era = \"Victorian England\" #@param {type:\"string\"}\n",
        "\n",
        "bold_start = \"\\033[1m\"\n",
        "bold_stop = \"\\033[0m\"\n",
        "result = overall_chain({\"title\": title, \"era\": era})\n",
        "\n",
        "print(f\"\"\"\n",
        "{bold_start}> Prompt{bold_stop}\n",
        "\n",
        "{title} – {era}\n",
        "\n",
        "{bold_start}> Synopsis{bold_stop}\n",
        "\n",
        "{result['synopsis']}\n",
        "\n",
        "{bold_start}> Review{bold_stop}\n",
        "\n",
        "{result['review']}\n",
        "\"\"\")\n",
        "\n",
        "#@markdown Documentation — [SequentialChain](https://python.langchain.com/en/latest/modules/chains/generic/sequential_chains.html)"
      ],
      "metadata": {
        "id": "0QTMO-HbXUAM"
      },
      "execution_count": null,
      "outputs": []
    },
    {
      "cell_type": "code",
      "source": [],
      "metadata": {
        "id": "s2IOCcycjLX-"
      },
      "execution_count": null,
      "outputs": []
    }
  ]
}